{
 "cells": [
  {
   "cell_type": "code",
   "execution_count": 1,
   "metadata": {},
   "outputs": [],
   "source": [
    "import glob\n",
    "import niwaves"
   ]
  },
  {
   "cell_type": "code",
   "execution_count": 2,
   "metadata": {},
   "outputs": [],
   "source": [
    "subjects = ['sub-MSC01',\n",
    "            'sub-MSC02',\n",
    "            'sub-MSC03',\n",
    "            'sub-MSC04',\n",
    "            'sub-MSC05',\n",
    "            'sub-MSC06',\n",
    "            'sub-MSC07',\n",
    "            'sub-MSC08',\n",
    "            'sub-MSC09',\n",
    "            'sub-MSC10']\n",
    "sessions = ['ses-func01',\n",
    "            'ses-func02',\n",
    "            'ses-func03',\n",
    "            'ses-func04',\n",
    "            'ses-func05']\n",
    "tasks = ['task-rest',\n",
    "         'task-motor',\n",
    "         'task-memory*',\n",
    "         'task-glasslexical']\n",
    "runs = ['run-01']\n",
    "ts = {\n",
    "      task: {\n",
    "       sub: {\n",
    "        ses: {\n",
    "         run: {'roi': 'data/MSC/ts/{}_{}_{}_{}_schaefer400_ts.1D'.format(sub, ses, task, run),\n",
    "          'motion': 'data/MSC/motion/{}_{}_{}_{}_relRMS.1D'.format(sub, ses, task, run)\n",
    "         } for run in runs\n",
    "        } for ses in sessions\n",
    "       } for sub in subjects\n",
    "      } for task in tasks\n",
    "     }"
   ]
  }
 ],
 "metadata": {
  "kernelspec": {
   "display_name": "Python 3",
   "language": "python",
   "name": "python3"
  },
  "language_info": {
   "codemirror_mode": {
    "name": "ipython",
    "version": 3
   },
   "file_extension": ".py",
   "mimetype": "text/x-python",
   "name": "python",
   "nbconvert_exporter": "python",
   "pygments_lexer": "ipython3",
   "version": "3.6.6"
  }
 },
 "nbformat": 4,
 "nbformat_minor": 2
}
